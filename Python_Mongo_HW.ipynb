{
 "cells": [
  {
   "cell_type": "markdown",
   "metadata": {},
   "source": [
    "# 作業： 使用 Python 操作 MongoDB"
   ]
  },
  {
   "cell_type": "markdown",
   "metadata": {},
   "source": [
    "# [作業目標]\n",
    "* 能夠使用 Python 對 MongoDB 的資料進行增刪改查操作。\n",
    "* 使用 Robo 3T 工具查看資料。"
   ]
  },
  {
   "cell_type": "markdown",
   "metadata": {},
   "source": [
    "# [作業重點]\n",
    "* 執行程式前，MongoDB Server 記得要先開啟。\n",
    "* 若 DB、Collection 原本不存在，則直到有第一筆資料 insert 進去，才會真的建立 DB 及 Collection"
   ]
  },
  {
   "cell_type": "markdown",
   "metadata": {},
   "source": [
    "# 作業1\n",
    "* 建立 DB 及 Collection (名稱自訂)，使用 Python 取得連線。"
   ]
  },
  {
   "cell_type": "code",
   "execution_count": 8,
   "metadata": {},
   "outputs": [
    {
     "output_type": "execute_result",
     "data": {
      "text/plain": [
       "[ObjectId('5fd7289e562cbad7e3ac0d62'),\n",
       " ObjectId('5fd7289e562cbad7e3ac0d63'),\n",
       " ObjectId('5fd7289e562cbad7e3ac0d64')]"
      ]
     },
     "metadata": {},
     "execution_count": 8
    }
   ],
   "source": [
    "from pymongo import MongoClient\n",
    "client = MongoClient(host='127.0.0.1', port = 27017)\n",
    "db = client['test']\n",
    "collection = db['member']\n",
    "mydata = {'name': 'Mike','phone':'0921234234', 'email':'tese@gmail.com'}\n",
    "result = collection.insert_one(mydata)\n",
    "data_list =[{'name': 'Louis','phone':'0923234234', 'email':'tesk@gmail.com'},{'name': 'Charles','phone':'0956934234', 'email':'takse@gmail.com'},{'name': 'Elsa','phone':'0934890234', 'email':'tsmc@gmail.com'}]\n",
    "result = collection.insert_many(data_list)\n",
    "result.inserted_ids"
   ]
  },
  {
   "cell_type": "markdown",
   "metadata": {},
   "source": [
    "# 作業2\n",
    "* 使用 Python 操作 Mongo 中的資料。"
   ]
  },
  {
   "cell_type": "code",
   "execution_count": 3,
   "metadata": {},
   "outputs": [
    {
     "output_type": "execute_result",
     "data": {
      "text/plain": [
       "6"
      ]
     },
     "metadata": {},
     "execution_count": 3
    }
   ],
   "source": [
    "collection.count_documents({})"
   ]
  },
  {
   "cell_type": "code",
   "execution_count": 9,
   "metadata": {},
   "outputs": [
    {
     "output_type": "execute_result",
     "data": {
      "text/plain": [
       "2"
      ]
     },
     "metadata": {},
     "execution_count": 9
    }
   ],
   "source": [
    "result = collection.delete_many({'name': 'Green'})\n",
    "result.deleted_count"
   ]
  },
  {
   "cell_type": "code",
   "execution_count": 5,
   "metadata": {},
   "outputs": [
    {
     "output_type": "execute_result",
     "data": {
      "text/plain": [
       "<pymongo.results.UpdateResult at 0x10dc47980>"
      ]
     },
     "metadata": {},
     "execution_count": 5
    }
   ],
   "source": [
    "filter_ = {'name' : 'Louis'}\n",
    "\n",
    "update_ = {'$set': {'name' : \"Green\"}}\n",
    "collection.update_one(filter_, update_)"
   ]
  },
  {
   "cell_type": "code",
   "execution_count": 6,
   "metadata": {},
   "outputs": [
    {
     "output_type": "execute_result",
     "data": {
      "text/plain": [
       "{'_id': ObjectId('5fd7238061e4259568e2da58'),\n",
       " 'name': 'Green',\n",
       " 'phone': '0923234234',\n",
       " 'email': 'tesk@gmail.com'}"
      ]
     },
     "metadata": {},
     "execution_count": 6
    }
   ],
   "source": [
    "result = collection.find_one({})\n",
    "result"
   ]
  },
  {
   "cell_type": "code",
   "execution_count": 10,
   "metadata": {},
   "outputs": [
    {
     "output_type": "stream",
     "name": "stdout",
     "text": [
      "{'_id': ObjectId('5fd72842562cbad7e3ac0d5e'), 'name': 'Charles', 'phone': '0956934234', 'email': 'takse@gmail.com'}\n{'_id': ObjectId('5fd7238061e4259568e2da59'), 'name': 'Charles', 'phone': '0956934234', 'email': 'takse@gmail.com'}\n{'_id': ObjectId('5fd7289e562cbad7e3ac0d63'), 'name': 'Charles', 'phone': '0956934234', 'email': 'takse@gmail.com'}\n{'_id': ObjectId('5fd7289e562cbad7e3ac0d64'), 'name': 'Elsa', 'phone': '0934890234', 'email': 'tsmc@gmail.com'}\n{'_id': ObjectId('5fd7289e562cbad7e3ac0d62'), 'name': 'Louis', 'phone': '0923234234', 'email': 'tesk@gmail.com'}\n"
     ]
    }
   ],
   "source": [
    "result = collection.find().limit(5).sort('phone', -1)\n",
    "for k in result:\n",
    "    print(k)"
   ]
  },
  {
   "cell_type": "code",
   "execution_count": null,
   "metadata": {},
   "outputs": [],
   "source": []
  }
 ],
 "metadata": {
  "kernelspec": {
   "display_name": "Python 3",
   "language": "python",
   "name": "python3"
  },
  "language_info": {
   "codemirror_mode": {
    "name": "ipython",
    "version": 3
   },
   "file_extension": ".py",
   "mimetype": "text/x-python",
   "name": "python",
   "nbconvert_exporter": "python",
   "pygments_lexer": "ipython3",
   "version": "3.8.6-final"
  }
 },
 "nbformat": 4,
 "nbformat_minor": 4
}