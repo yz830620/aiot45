{
 "cells": [
  {
   "cell_type": "markdown",
   "metadata": {},
   "source": [
    "# 作業：安裝Docker，下載映像檔後，建立容器並將實體主機和容器的資料夾互連"
   ]
  },
  {
   "cell_type": "markdown",
   "metadata": {},
   "source": [
    "# [作業目標]\n",
    "* 成功安裝 Docker\n",
    "* 可以從 Docker Hub 下載映像檔到電腦中\n",
    "* 能夠使用映像檔建立容器\n",
    "* 連接本機的資料夾和容器中的資料夾\n",
    "* 使用 docker exec 指令進入到容器中"
   ]
  },
  {
   "cell_type": "markdown",
   "metadata": {},
   "source": [
    "# [作業重點]\n",
    "* 了解映像檔(Image)和容器(Container) 之間的關係\n",
    "* 能夠使用指令進到容器中"
   ]
  },
  {
   "cell_type": "markdown",
   "metadata": {},
   "source": [
    "# [作業1]\n",
    "* 將此映像檔下載至電腦\n",
    "[alpine](https://hub.docker.com/_/alpine)"
   ]
  },
  {
   "cell_type": "markdown",
   "metadata": {},
   "source": [
    "# [作業2]\n",
    "* 使用下載的映像檔建立容器，並選定本機中的一個資料夾與容器中的資料夾做連結\n",
    "* 在本機與容器做連結的資料夾裡建立一個檔案\n",
    "* 使用指令進到容器內，查看與外部連結的資料夾，即可看到剛剛在本機建立的檔案"
   ]
  },
  {
   "attachments": {},
   "cell_type": "markdown",
   "metadata": {},
   "source": [
    "# [注意事項]\n",
    "* 此映像檔比我們簡報範例使用的 ubuntu 更輕量化，所以在作業的部分我們採用此映像檔做練習，需要注意的是此映像檔並沒有 bash 套件，所以進入容器的指令和簡報介紹的稍有不同，您可以參考以下指令執行進入容器 \n",
    "\n",
    "```\n",
    "\"docker exec -it [ 容器編號 ] /bin/sh\"\n",
    "```\n",
    "\n",
    "詳細的 bash 和 sh 的差異因不在本課程範圍所以僅提供相關資訊連結供參考：\n",
    "[[Linux] sh 和 bash 之間的差異](https://clay-atlas.com/blog/2020/07/08/linux-cn-note-sh-bash-dash-point/)"
   ]
  },
  {
   "source": [
    "![jupyter](./map.png)\n"
   ],
   "cell_type": "markdown",
   "metadata": {}
  }
 ],
 "metadata": {
  "kernelspec": {
   "display_name": "Python 3",
   "language": "python",
   "name": "python3"
  },
  "language_info": {
   "codemirror_mode": {
    "name": "ipython",
    "version": 3
   },
   "file_extension": ".py",
   "mimetype": "text/x-python",
   "name": "python",
   "nbconvert_exporter": "python",
   "pygments_lexer": "ipython3",
   "version": "3.7.6"
  }
 },
 "nbformat": 4,
 "nbformat_minor": 4
}