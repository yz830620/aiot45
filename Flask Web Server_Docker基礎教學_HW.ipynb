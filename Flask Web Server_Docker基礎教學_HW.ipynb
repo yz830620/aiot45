{
 "cells": [
  {
   "cell_type": "markdown",
   "metadata": {},
   "source": [
    "# 作業：從 Docker Hub 下載一個含有 Flask 的映像檔，並執行該映像檔"
   ]
  },
  {
   "cell_type": "markdown",
   "metadata": {},
   "source": [
    "# [作業目標]\n",
    "* 了解 Docker 的基本觀念\n",
    "* 成功執行一個含有 Flask 的 Docker image，並可以連到該 Server"
   ]
  },
  {
   "cell_type": "markdown",
   "metadata": {},
   "source": [
    "# [作業重點]\n",
    "* 可直接使用本課程範例 https://hub.docker.com/r/kurtliao/flask-demo\n",
    "* 若您使用的不是本課程的範例映像檔，在執行容器後遇到連線不到 Flask Server 的情況，請檢查連接的 Port 是否和您的網址一致(Flask 預設為5000)"
   ]
  },
  {
   "cell_type": "markdown",
   "metadata": {},
   "source": [
    "# 作業 1\n",
    "* 成功執行一個含有 Flask 的 Docker image，並可以連到該 Server\n",
    "![Flask](docker_flask_run.png)\n",
    "`註： 請將實作結果截圖`"
   ]
  }
 ],
 "metadata": {
  "kernelspec": {
   "display_name": "Python 3",
   "language": "python",
   "name": "python3"
  },
  "language_info": {
   "codemirror_mode": {
    "name": "ipython",
    "version": 3
   },
   "file_extension": ".py",
   "mimetype": "text/x-python",
   "name": "python",
   "nbconvert_exporter": "python",
   "pygments_lexer": "ipython3",
   "version": "3.7.6"
  }
 },
 "nbformat": 4,
 "nbformat_minor": 4
}